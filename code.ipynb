{
 "cells": [
  {
   "cell_type": "code",
   "execution_count": null,
   "id": "46a67f24",
   "metadata": {
    "vscode": {
     "languageId": "plaintext"
    }
   },
   "outputs": [],
   "source": [
    "!pip install ultralytics\n",
    "!pip install --quiet vietocr"
   ]
  },
  {
   "cell_type": "code",
   "execution_count": null,
   "id": "e78cccba",
   "metadata": {
    "vscode": {
     "languageId": "plaintext"
    }
   },
   "outputs": [],
   "source": [
    "!python3 -m pip install paddlepaddle==3.1.0 -i https://www.paddlepaddle.org.cn/packages/stable/cpu/\n",
    "!python3 -m pip install paddlepaddle-gpu==3.1.0 -i https://www.paddlepaddle.org.cn/packages/stable/cu126/\n",
    "!pip install paddleocr"
   ]
  },
  {
   "cell_type": "code",
   "execution_count": null,
   "id": "7156f9e9",
   "metadata": {
    "vscode": {
     "languageId": "plaintext"
    }
   },
   "outputs": [],
   "source": [
    "# from ultralytics import YOLO\n",
    "import os\n",
    "import matplotlib.pyplot as plt\n",
    "from PIL import Image\n",
    "from paddleocr import TextDetection\n",
    "import cv2\n",
    "import numpy as np"
   ]
  },
  {
   "cell_type": "code",
   "execution_count": null,
   "id": "83c6620a",
   "metadata": {
    "vscode": {
     "languageId": "plaintext"
    }
   },
   "outputs": [],
   "source": [
    "# Folder paths\n",
    "input_folder = '/content/drive/MyDrive/sample_intern1/sample'\n",
    "pdf_output_folder = '/content/drive/MyDrive/sample_intern1/output/pdf_first_pages'\n",
    "img_output_folder = '/content/drive/MyDrive/sample_intern1/output/img_first_pages'\n",
    "os.makedirs(pdf_output_folder, exist_ok=True)\n",
    "os.makedirs(img_output_folder, exist_ok=True)\n",
    "\n",
    "# Loop through PDF files\n",
    "for filename in os.listdir(input_folder):\n",
    "    if filename.lower().endswith('.pdf'):\n",
    "        file_path = os.path.join(input_folder, filename)\n",
    "        base_name = os.path.splitext(filename)[0]\n",
    "\n",
    "        # Extract first page and save as new PDF\n",
    "        reader = PdfReader(file_path)\n",
    "        writer = PdfWriter()\n",
    "        if len(reader.pages) > 0:\n",
    "            writer.add_page(reader.pages[0])\n",
    "            pdf_output_path = os.path.join(pdf_output_folder, f'{base_name}_page1.pdf')\n",
    "            with open(pdf_output_path, 'wb') as out_pdf:\n",
    "                writer.write(out_pdf)\n",
    "            print(f'✅ Saved first page: {pdf_output_path}')\n",
    "\n",
    "            # Convert first page to image\n",
    "            images = convert_from_path(pdf_output_path, first_page=1, last_page=1)\n",
    "            img_output_path = os.path.join(img_output_folder, f'{base_name}_page1.jpg')\n",
    "            images[0].save(img_output_path, 'JPEG')\n",
    "            print(f'🖼️ Converted to image: {img_output_path}')\n"
   ]
  },
  {
   "cell_type": "code",
   "execution_count": null,
   "id": "a2cd0400",
   "metadata": {
    "vscode": {
     "languageId": "plaintext"
    }
   },
   "outputs": [],
   "source": [
    "# Load a model\n",
    "model = YOLO(\"yolov8n.pt\")  # load a pretrained model (recommended for training)\n",
    "\n",
    "# Train the model\n",
    "results = model.train(data=\"/content/drive/MyDrive/sample_intern1/dataset.yaml\", epochs=100, imgsz=640)"
   ]
  },
  {
   "cell_type": "code",
   "execution_count": null,
   "id": "e07efd78",
   "metadata": {
    "vscode": {
     "languageId": "plaintext"
    }
   },
   "outputs": [],
   "source": [
    "# Load pretrained model\n",
    "model = YOLO(\"/content/drive/MyDrive/sample_intern1/best.pt\")  # load a pretrained model (recommended for training)\n",
    "\n",
    "# Train the model\n",
    "results = model.train(data=\"/content/drive/MyDrive/sample_intern1/dataset.yaml\", epochs=100, imgsz=640)"
   ]
  },
  {
   "cell_type": "code",
   "execution_count": null,
   "id": "05959180",
   "metadata": {
    "vscode": {
     "languageId": "plaintext"
    }
   },
   "outputs": [],
   "source": [
    "# Đường dẫn đến thư mục chứa ảnh\n",
    "image_folder = \"/content/drive/MyDrive/sample_intern1/output/img_first_pages\"\n",
    "output_dir = \"/content/drive/MyDrive/sample_intern1/output/test/\"\n",
    "os.makedirs(output_dir, exist_ok=True)\n",
    "\n",
    "# Tải mô hình YOLO\n",
    "model_crop = YOLO(\"/content/drive/MyDrive/sample_intern1/best.pt\")\n",
    "\n",
    "# Biến để đánh số thứ tự các ảnh crop\n",
    "crop_count = 0\n",
    "\n",
    "# Lặp qua tất cả các file ảnh trong thư mục\n",
    "for filename in os.listdir(image_folder):\n",
    "    # Kiểm tra xem file có phải là file ảnh không (jpg, jpeg, png, ...)\n",
    "    if filename.lower().endswith(('.jpg', '.jpeg', '.png')):\n",
    "        # Đường dẫn đầy đủ đến ảnh\n",
    "        image_path = os.path.join(image_folder, filename)\n",
    "\n",
    "        # Đọc ảnh\n",
    "        image = cv2.imread(image_path)\n",
    "\n",
    "        # Dự đoán trên ảnh\n",
    "        results = model_crop(image)\n",
    "\n",
    "        # Duyệt qua tất cả các kết quả dự đoán\n",
    "        for result in results:\n",
    "            # Duyệt qua từng box (bounding box) trong các kết quả dự đoán\n",
    "            for box in result.boxes:\n",
    "                # Lấy tọa độ của bounding box (x1, y1, x2, y2)\n",
    "                x1, y1, x2, y2 = map(int, box.xyxy[0])\n",
    "\n",
    "                # Trích xuất vùng ảnh trong bounding box\n",
    "                object_image = image[y1:y2, x1:x2]\n",
    "\n",
    "                # # Tạo tên file với số thứ tự\n",
    "                output_filename = os.path.join(output_dir, f\"crop_{crop_count}.jpg\")\n",
    "\n",
    "                # Lưu ảnh crop với tên file theo thứ tự\n",
    "                cv2.imwrite(output_filename, object_image)\n",
    "\n",
    "                # Tăng biến đếm\n",
    "                crop_count += 1\n",
    "\n",
    "                print(f\"Đã lưu {output_filename}\")\n"
   ]
  },
  {
   "cell_type": "code",
   "execution_count": null,
   "id": "82b6df3a",
   "metadata": {
    "vscode": {
     "languageId": "plaintext"
    }
   },
   "outputs": [],
   "source": [
    "from paddleocr import PaddleOCR\n",
    "from vietocr.tool.predictor import Predictor\n",
    "from vietocr.tool.config import Cfg\n",
    "from PIL import Image, ImageDraw, ImageFont\n",
    "import os\n",
    "import numpy as np\n",
    "\n",
    "# Khởi tạo PaddleOCR chỉ dùng text detection\n",
    "ocr = PaddleOCR(use_angle_cls=False, lang='vi', text_detection_model_name=\"PP-OCRv5_mobile_det\")\n",
    "\n",
    "# Khởi tạo VietOCR cho text recognition\n",
    "config = Cfg.load_config_from_name('vgg_transformer')\n",
    "config['cnn']['pretrained'] = False\n",
    "config['device'] = 'cuda:0'\n",
    "vietocr_predictor = Predictor(config)\n",
    "\n",
    "# Đường dẫn ảnh đầu vào\n",
    "img_path = '/content/drive/MyDrive/sample_intern1/output/crops/crop_17.jpg'\n",
    "image = Image.open(img_path).convert('RGB')\n",
    "draw = ImageDraw.Draw(image)\n",
    "\n",
    "# Font để vẽ text\n",
    "try:\n",
    "    font = ImageFont.truetype(\"/usr/share/fonts/truetype/dejavu/DejaVuSans.ttf\", 18)\n",
    "except:\n",
    "    font = ImageFont.load_default()\n",
    "\n",
    "recognized_text_list = []\n",
    "# Tạo thư mục output nếu chưa có\n",
    "os.makedirs(\"output/crops\", exist_ok=True)\n",
    "\n",
    "# Text detection bằng PaddleOCR\n",
    "result = ocr.ocr(img_path)\n",
    "\n",
    "# Lấy dt_polys từ kết quả\n",
    "if result and isinstance(result[0], dict) and 'dt_polys' in result[0]:\n",
    "    for idx, polygon in enumerate(result[0]['dt_polys']):\n",
    "        # polygon là numpy array (4, 2), convert thành list point tuple\n",
    "        box_coords = [tuple(map(int, pt)) for pt in polygon]\n",
    "\n",
    "        # Tìm bounding box\n",
    "        xs = [pt[0] for pt in box_coords]\n",
    "        ys = [pt[1] for pt in box_coords]\n",
    "        x_min, x_max = min(xs), max(xs)\n",
    "        y_min, y_max = min(ys), max(ys)\n",
    "\n",
    "        # Crop vùng ảnh\n",
    "        cropped = image.crop((x_min, y_min, x_max, y_max))\n",
    "\n",
    "        # Lưu ảnh crop\n",
    "        crop_path = f\"output/crops/crop_{idx}.jpg\"\n",
    "        cropped.save(crop_path)\n",
    "\n",
    "        # Nhận dạng văn bản bằng VietOCR\n",
    "        try:\n",
    "            recognized_text = vietocr_predictor.predict(cropped)\n",
    "            recognized_text_list.append(recognized_text)\n",
    "        except:\n",
    "            recognized_text = \"[ERROR]\"\n",
    "\n",
    "        # Vẽ polygon + text lên ảnh gốc\n",
    "        draw.line(box_coords + [box_coords[0]], fill=(255, 0, 0), width=2)\n",
    "        draw.text((x_min, y_min - 10), recognized_text, fill=(0, 0, 255), font=font)\n",
    "\n",
    "# Lưu ảnh kết quả\n",
    "image.save(\"output/result_vietocr.jpg\")\n"
   ]
  },
  {
   "cell_type": "code",
   "execution_count": null,
   "id": "1ba8ee9a",
   "metadata": {
    "vscode": {
     "languageId": "plaintext"
    }
   },
   "outputs": [],
   "source": [
    "recognized_text_list"
   ]
  }
 ],
 "metadata": {
  "language_info": {
   "name": "python"
  }
 },
 "nbformat": 4,
 "nbformat_minor": 5
}
